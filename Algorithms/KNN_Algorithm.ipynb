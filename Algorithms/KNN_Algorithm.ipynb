{
 "cells": [
  {
   "cell_type": "markdown",
   "id": "e848c113",
   "metadata": {},
   "source": [
    "1. Importing Libraries"
   ]
  },
  {
   "cell_type": "code",
   "execution_count": 6,
   "id": "6ac79c55",
   "metadata": {},
   "outputs": [],
   "source": [
    "import numpy as np\n",
    "from collections import Counter"
   ]
  },
  {
   "cell_type": "markdown",
   "id": "dbca4a99",
   "metadata": {},
   "source": [
    "2. Defining the Euclidean Distance Function"
   ]
  },
  {
   "cell_type": "code",
   "execution_count": 7,
   "id": "3557bb91",
   "metadata": {},
   "outputs": [],
   "source": [
    "def euclidean_distance(point1, point2):\n",
    "    return np.sqrt(np.sum((np.array(point1) - np.array(point2))**2))"
   ]
  },
  {
   "cell_type": "markdown",
   "id": "02cd5048",
   "metadata": {},
   "source": [
    "3. KNN Prediction Function"
   ]
  },
  {
   "cell_type": "code",
   "execution_count": 8,
   "id": "7c970299",
   "metadata": {},
   "outputs": [],
   "source": [
    "def knn_predict(training_data, training_labels, test_point, k):\n",
    "    distances = []\n",
    "    for i in range(len(training_data)):\n",
    "        dist = euclidean_distance(test_point, training_data[i])\n",
    "        distances.append((dist, training_labels[i]))\n",
    "    distances.sort(key=lambda x: x[0])\n",
    "    k_nearest_labels = [label for _, label in distances[:k]]\n",
    "    return Counter(k_nearest_labels).most_common(1)[0][0]"
   ]
  },
  {
   "cell_type": "markdown",
   "id": "b38cb87e",
   "metadata": {},
   "source": [
    "4. Training Data, Labels and Test Point"
   ]
  },
  {
   "cell_type": "code",
   "execution_count": 9,
   "id": "8a9953ed",
   "metadata": {},
   "outputs": [],
   "source": [
    "training_data = [[1, 2], [2, 3], [3, 4], [6, 7], [7, 8]]\n",
    "training_labels = ['A', 'A', 'A', 'B', 'B']\n",
    "test_point = [4, 5]\n",
    "k = 3"
   ]
  },
  {
   "cell_type": "markdown",
   "id": "f86df300",
   "metadata": {},
   "source": [
    "5. Prediction"
   ]
  },
  {
   "cell_type": "code",
   "execution_count": 10,
   "id": "2e7f9e77",
   "metadata": {},
   "outputs": [
    {
     "name": "stdout",
     "output_type": "stream",
     "text": [
      "A\n"
     ]
    }
   ],
   "source": [
    "prediction = knn_predict(training_data, training_labels, test_point, k)\n",
    "print(prediction)"
   ]
  }
 ],
 "metadata": {
  "kernelspec": {
   "display_name": "Python 3",
   "language": "python",
   "name": "python3"
  },
  "language_info": {
   "codemirror_mode": {
    "name": "ipython",
    "version": 3
   },
   "file_extension": ".py",
   "mimetype": "text/x-python",
   "name": "python",
   "nbconvert_exporter": "python",
   "pygments_lexer": "ipython3",
   "version": "3.11.5"
  }
 },
 "nbformat": 4,
 "nbformat_minor": 5
}
